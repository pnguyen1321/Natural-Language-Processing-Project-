{
 "cells": [
  {
   "cell_type": "code",
   "execution_count": 1,
   "metadata": {
    "collapsed": true
   },
   "outputs": [],
   "source": [
    "import tweepy\n",
    "from tweepy import OAuthHandler\n",
    " \n",
    "consumer_key = 'Yax9TZUTuDQbYjDyggKxesUlH'\n",
    "consumer_secret = 'uAvGZ7ztYEZ3j3d6ro2HDytpt8FEXCaw5QyHF5SFFAqEGOtMcw'\n",
    "access_token = '846501547114573824-AewJm2vP8tKc77V5pW05s2ali2MsaDv'\n",
    "access_secret = 'SMHIEdotL47sIo6HJKgUGbdujzfd2Ba4nhtWY9aGwJMfO'\n",
    " \n",
    "auth = OAuthHandler(consumer_key, consumer_secret)\n",
    "auth.set_access_token(access_token, access_secret)\n",
    " \n",
    "api = tweepy.API(auth)"
   ]
  },
  {
   "cell_type": "code",
   "execution_count": 2,
   "metadata": {
    "collapsed": false
   },
   "outputs": [
    {
     "name": "stdout",
     "output_type": "stream",
     "text": [
      "RT @bonerhitler: Pls wear this hat to own the liberals. https://t.co/aZ0RR75E6u\n",
      "Highland Park girl shares emotional story in DC about witnessing her father being detained by ICE last month… https://t.co/9SCzin0rQK\n",
      "Devon and Leah Still celebrate two years in remission https://t.co/1iBsUkGkVI\n",
      "Lady in Red valerianmovie @lucbesson https://t.co/4o5TtuK12d\n",
      "♀️@Whalewatchmeplz wearing pink for #PinkOut in support of Planned Parenthood &amp; women's rights! @PPact #IStandWithPP https://t.co/b2OXu2IIz3\n",
      "💋 https://t.co/j93RQFvh3Q\n",
      "Watch: President #Trump speaks during a listening opioid addiction at the White House. https://t.co/4ie2fDie1B\n",
      "Sandwich https://t.co/PQWBvLPDZT\n",
      "Night sky over Utah's Arches National Park. March 12.\n",
      "\n",
      "Photo by Nils Ribi. https://t.co/CbeNUWrKNY\n",
      "Former Chris Christie aide sentenced to 2 years in prison on charges related to the Bridgegate scandal.  https://t.co/j981WykQjn\n"
     ]
    }
   ],
   "source": [
    "for status in tweepy.Cursor(api.home_timeline).items(10):\n",
    "    # Process a single status\n",
    "    print(status.text) "
   ]
  },
  {
   "cell_type": "code",
   "execution_count": 3,
   "metadata": {
    "collapsed": false
   },
   "outputs": [],
   "source": [
    "from tweepy import Stream\n",
    "from tweepy.streaming import StreamListener\n",
    "import time\n",
    "import argparse\n",
    "import string\n",
    "import config\n",
    "import json\n",
    "import os "
   ]
  },
  {
   "cell_type": "code",
   "execution_count": 4,
   "metadata": {
    "collapsed": true
   },
   "outputs": [],
   "source": [
    "def process_or_store(tweet):\n",
    "    print(json.dumps(tweet))"
   ]
  },
  {
   "cell_type": "code",
   "execution_count": 6,
   "metadata": {
    "collapsed": false
   },
   "outputs": [
    {
     "name": "stdout",
     "output_type": "stream",
     "text": [
      "{\"contributors\": null, \"truncated\": false, \"text\": \"RT @bonerhitler: Pls wear this hat to own the liberals. https://t.co/aZ0RR75E6u\", \"is_quote_status\": false, \"in_reply_to_status_id\": null, \"id\": 847137260273225728, \"favorite_count\": 0, \"source\": \"<a href=\\\"http://twitter.com/download/iphone\\\" rel=\\\"nofollow\\\">Twitter for iPhone</a>\", \"retweeted\": false, \"coordinates\": null, \"entities\": {\"symbols\": [], \"user_mentions\": [{\"id\": 921399386, \"indices\": [3, 15], \"id_str\": \"921399386\", \"screen_name\": \"bonerhitler\", \"name\": \"Gamer Gate Allin\"}], \"hashtags\": [], \"urls\": [], \"media\": [{\"source_user_id\": 921399386, \"source_status_id_str\": \"846805271800360962\", \"expanded_url\": \"https://twitter.com/bonerhitler/status/846805271800360962/photo/1\", \"display_url\": \"pic.twitter.com/aZ0RR75E6u\", \"url\": \"https://t.co/aZ0RR75E6u\", \"media_url_https\": \"https://pbs.twimg.com/media/C8B050UW0AMCHxZ.jpg\", \"source_user_id_str\": \"921399386\", \"source_status_id\": 846805271800360962, \"id_str\": \"846805266591043587\", \"sizes\": {\"small\": {\"h\": 482, \"resize\": \"fit\", \"w\": 680}, \"large\": {\"h\": 532, \"resize\": \"fit\", \"w\": 750}, \"medium\": {\"h\": 532, \"resize\": \"fit\", \"w\": 750}, \"thumb\": {\"h\": 150, \"resize\": \"crop\", \"w\": 150}}, \"indices\": [56, 79], \"type\": \"photo\", \"id\": 846805266591043587, \"media_url\": \"http://pbs.twimg.com/media/C8B050UW0AMCHxZ.jpg\"}]}, \"in_reply_to_screen_name\": null, \"in_reply_to_user_id\": null, \"retweet_count\": 1179, \"id_str\": \"847137260273225728\", \"favorited\": false, \"retweeted_status\": {\"contributors\": null, \"truncated\": false, \"text\": \"Pls wear this hat to own the liberals. https://t.co/aZ0RR75E6u\", \"is_quote_status\": false, \"in_reply_to_status_id\": null, \"id\": 846805271800360962, \"favorite_count\": 2987, \"source\": \"<a href=\\\"http://twitter.com/download/iphone\\\" rel=\\\"nofollow\\\">Twitter for iPhone</a>\", \"retweeted\": false, \"coordinates\": null, \"entities\": {\"symbols\": [], \"user_mentions\": [], \"hashtags\": [], \"urls\": [], \"media\": [{\"expanded_url\": \"https://twitter.com/bonerhitler/status/846805271800360962/photo/1\", \"display_url\": \"pic.twitter.com/aZ0RR75E6u\", \"url\": \"https://t.co/aZ0RR75E6u\", \"media_url_https\": \"https://pbs.twimg.com/media/C8B050UW0AMCHxZ.jpg\", \"id_str\": \"846805266591043587\", \"sizes\": {\"small\": {\"h\": 482, \"resize\": \"fit\", \"w\": 680}, \"large\": {\"h\": 532, \"resize\": \"fit\", \"w\": 750}, \"medium\": {\"h\": 532, \"resize\": \"fit\", \"w\": 750}, \"thumb\": {\"h\": 150, \"resize\": \"crop\", \"w\": 150}}, \"indices\": [39, 62], \"type\": \"photo\", \"id\": 846805266591043587, \"media_url\": \"http://pbs.twimg.com/media/C8B050UW0AMCHxZ.jpg\"}]}, \"in_reply_to_screen_name\": null, \"in_reply_to_user_id\": null, \"retweet_count\": 1179, \"id_str\": \"846805271800360962\", \"favorited\": false, \"user\": {\"follow_request_sent\": false, \"has_extended_profile\": false, \"profile_use_background_image\": true, \"default_profile_image\": false, \"id\": 921399386, \"profile_background_image_url_https\": \"https://pbs.twimg.com/profile_background_images/826187189/3d1e90e8d10aafd9bb04e1e7d75b38b5.png\", \"verified\": false, \"translator_type\": \"none\", \"profile_text_color\": \"333333\", \"profile_image_url_https\": \"https://pbs.twimg.com/profile_images/813558229527658498/b4ip505k_normal.jpg\", \"profile_sidebar_fill_color\": \"DDEEF6\", \"entities\": {\"description\": {\"urls\": []}}, \"followers_count\": 6476, \"profile_sidebar_border_color\": \"FFFFFF\", \"id_str\": \"921399386\", \"profile_background_color\": \"000000\", \"listed_count\": 116, \"is_translation_enabled\": false, \"utc_offset\": null, \"statuses_count\": 50651, \"description\": \"I'm a pan handlin, man handlin, post holin, high rollin, dust bowlin daddy\", \"friends_count\": 563, \"location\": \"Boston-----NYC\", \"profile_link_color\": \"0084B4\", \"profile_image_url\": \"http://pbs.twimg.com/profile_images/813558229527658498/b4ip505k_normal.jpg\", \"following\": false, \"geo_enabled\": true, \"profile_banner_url\": \"https://pbs.twimg.com/profile_banners/921399386/1410390690\", \"profile_background_image_url\": \"http://pbs.twimg.com/profile_background_images/826187189/3d1e90e8d10aafd9bb04e1e7d75b38b5.png\", \"screen_name\": \"bonerhitler\", \"lang\": \"en\", \"profile_background_tile\": true, \"favourites_count\": 34667, \"name\": \"Gamer Gate Allin\", \"notifications\": false, \"url\": null, \"created_at\": \"Fri Nov 02 17:04:14 +0000 2012\", \"contributors_enabled\": false, \"time_zone\": null, \"protected\": false, \"default_profile\": false, \"is_translator\": false}, \"geo\": null, \"in_reply_to_user_id_str\": null, \"possibly_sensitive\": false, \"possibly_sensitive_appealable\": false, \"lang\": \"en\", \"created_at\": \"Tue Mar 28 19:24:44 +0000 2017\", \"in_reply_to_status_id_str\": null, \"place\": null, \"extended_entities\": {\"media\": [{\"expanded_url\": \"https://twitter.com/bonerhitler/status/846805271800360962/photo/1\", \"display_url\": \"pic.twitter.com/aZ0RR75E6u\", \"url\": \"https://t.co/aZ0RR75E6u\", \"media_url_https\": \"https://pbs.twimg.com/media/C8B050UW0AMCHxZ.jpg\", \"id_str\": \"846805266591043587\", \"sizes\": {\"small\": {\"h\": 482, \"resize\": \"fit\", \"w\": 680}, \"large\": {\"h\": 532, \"resize\": \"fit\", \"w\": 750}, \"medium\": {\"h\": 532, \"resize\": \"fit\", \"w\": 750}, \"thumb\": {\"h\": 150, \"resize\": \"crop\", \"w\": 150}}, \"indices\": [39, 62], \"type\": \"photo\", \"id\": 846805266591043587, \"media_url\": \"http://pbs.twimg.com/media/C8B050UW0AMCHxZ.jpg\"}, {\"expanded_url\": \"https://twitter.com/bonerhitler/status/846805271800360962/photo/1\", \"display_url\": \"pic.twitter.com/aZ0RR75E6u\", \"url\": \"https://t.co/aZ0RR75E6u\", \"media_url_https\": \"https://pbs.twimg.com/media/C8B050IXUAIe6lm.jpg\", \"id_str\": \"846805266540744706\", \"sizes\": {\"large\": {\"h\": 960, \"resize\": \"fit\", \"w\": 699}, \"small\": {\"h\": 680, \"resize\": \"fit\", \"w\": 495}, \"medium\": {\"h\": 960, \"resize\": \"fit\", \"w\": 699}, \"thumb\": {\"h\": 150, \"resize\": \"crop\", \"w\": 150}}, \"indices\": [39, 62], \"type\": \"photo\", \"id\": 846805266540744706, \"media_url\": \"http://pbs.twimg.com/media/C8B050IXUAIe6lm.jpg\"}, {\"expanded_url\": \"https://twitter.com/bonerhitler/status/846805271800360962/photo/1\", \"display_url\": \"pic.twitter.com/aZ0RR75E6u\", \"url\": \"https://t.co/aZ0RR75E6u\", \"media_url_https\": \"https://pbs.twimg.com/media/C8B050IXkAosfMl.jpg\", \"id_str\": \"846805266540761098\", \"sizes\": {\"small\": {\"h\": 680, \"resize\": \"fit\", \"w\": 507}, \"large\": {\"h\": 1005, \"resize\": \"fit\", \"w\": 749}, \"medium\": {\"h\": 1005, \"resize\": \"fit\", \"w\": 749}, \"thumb\": {\"h\": 150, \"resize\": \"crop\", \"w\": 150}}, \"indices\": [39, 62], \"type\": \"photo\", \"id\": 846805266540761098, \"media_url\": \"http://pbs.twimg.com/media/C8B050IXkAosfMl.jpg\"}]}}, \"user\": {\"follow_request_sent\": false, \"has_extended_profile\": true, \"profile_use_background_image\": true, \"default_profile_image\": false, \"id\": 39364684, \"profile_background_image_url_https\": \"https://pbs.twimg.com/profile_background_images/464145128299311104/cYV9jdVo.png\", \"verified\": true, \"translator_type\": \"none\", \"profile_text_color\": \"333333\", \"profile_image_url_https\": \"https://pbs.twimg.com/profile_images/680889019073454080/GMxn5fuf_normal.jpg\", \"profile_sidebar_fill_color\": \"7E898F\", \"entities\": {\"description\": {\"urls\": []}}, \"followers_count\": 4922791, \"profile_sidebar_border_color\": \"FFFFFF\", \"id_str\": \"39364684\", \"profile_background_color\": \"394145\", \"listed_count\": 6398, \"is_translation_enabled\": true, \"utc_offset\": -25200, \"statuses_count\": 60133, \"description\": \"v bad at award shows\", \"friends_count\": 4132, \"location\": \"everywhere like such as\", \"profile_link_color\": \"419DE5\", \"profile_image_url\": \"http://pbs.twimg.com/profile_images/680889019073454080/GMxn5fuf_normal.jpg\", \"following\": true, \"geo_enabled\": true, \"profile_banner_url\": \"https://pbs.twimg.com/profile_banners/39364684/1490678404\", \"profile_background_image_url\": \"http://pbs.twimg.com/profile_background_images/464145128299311104/cYV9jdVo.png\", \"screen_name\": \"chrissyteigen\", \"lang\": \"en\", \"profile_background_tile\": true, \"favourites_count\": 21463, \"name\": \"christine teigen\", \"notifications\": false, \"url\": null, \"created_at\": \"Mon May 11 22:50:04 +0000 2009\", \"contributors_enabled\": false, \"time_zone\": \"Pacific Time (US & Canada)\", \"protected\": false, \"default_profile\": false, \"is_translator\": false}, \"geo\": null, \"in_reply_to_user_id_str\": null, \"possibly_sensitive\": false, \"possibly_sensitive_appealable\": false, \"lang\": \"en\", \"created_at\": \"Wed Mar 29 17:23:56 +0000 2017\", \"in_reply_to_status_id_str\": null, \"place\": null, \"extended_entities\": {\"media\": [{\"source_user_id\": 921399386, \"source_status_id_str\": \"846805271800360962\", \"expanded_url\": \"https://twitter.com/bonerhitler/status/846805271800360962/photo/1\", \"display_url\": \"pic.twitter.com/aZ0RR75E6u\", \"url\": \"https://t.co/aZ0RR75E6u\", \"media_url_https\": \"https://pbs.twimg.com/media/C8B050UW0AMCHxZ.jpg\", \"source_user_id_str\": \"921399386\", \"source_status_id\": 846805271800360962, \"id_str\": \"846805266591043587\", \"sizes\": {\"small\": {\"h\": 482, \"resize\": \"fit\", \"w\": 680}, \"large\": {\"h\": 532, \"resize\": \"fit\", \"w\": 750}, \"medium\": {\"h\": 532, \"resize\": \"fit\", \"w\": 750}, \"thumb\": {\"h\": 150, \"resize\": \"crop\", \"w\": 150}}, \"indices\": [56, 79], \"type\": \"photo\", \"id\": 846805266591043587, \"media_url\": \"http://pbs.twimg.com/media/C8B050UW0AMCHxZ.jpg\"}, {\"source_user_id\": 921399386, \"source_status_id_str\": \"846805271800360962\", \"expanded_url\": \"https://twitter.com/bonerhitler/status/846805271800360962/photo/1\", \"display_url\": \"pic.twitter.com/aZ0RR75E6u\", \"url\": \"https://t.co/aZ0RR75E6u\", \"media_url_https\": \"https://pbs.twimg.com/media/C8B050IXUAIe6lm.jpg\", \"source_user_id_str\": \"921399386\", \"source_status_id\": 846805271800360962, \"id_str\": \"846805266540744706\", \"sizes\": {\"large\": {\"h\": 960, \"resize\": \"fit\", \"w\": 699}, \"small\": {\"h\": 680, \"resize\": \"fit\", \"w\": 495}, \"medium\": {\"h\": 960, \"resize\": \"fit\", \"w\": 699}, \"thumb\": {\"h\": 150, \"resize\": \"crop\", \"w\": 150}}, \"indices\": [56, 79], \"type\": \"photo\", \"id\": 846805266540744706, \"media_url\": \"http://pbs.twimg.com/media/C8B050IXUAIe6lm.jpg\"}, {\"source_user_id\": 921399386, \"source_status_id_str\": \"846805271800360962\", \"expanded_url\": \"https://twitter.com/bonerhitler/status/846805271800360962/photo/1\", \"display_url\": \"pic.twitter.com/aZ0RR75E6u\", \"url\": \"https://t.co/aZ0RR75E6u\", \"media_url_https\": \"https://pbs.twimg.com/media/C8B050IXkAosfMl.jpg\", \"source_user_id_str\": \"921399386\", \"source_status_id\": 846805271800360962, \"id_str\": \"846805266540761098\", \"sizes\": {\"small\": {\"h\": 680, \"resize\": \"fit\", \"w\": 507}, \"large\": {\"h\": 1005, \"resize\": \"fit\", \"w\": 749}, \"medium\": {\"h\": 1005, \"resize\": \"fit\", \"w\": 749}, \"thumb\": {\"h\": 150, \"resize\": \"crop\", \"w\": 150}}, \"indices\": [56, 79], \"type\": \"photo\", \"id\": 846805266540761098, \"media_url\": \"http://pbs.twimg.com/media/C8B050IXkAosfMl.jpg\"}]}}\n"
     ]
    }
   ],
   "source": [
    "for status in tweepy.Cursor(api.home_timeline).items(1):\n",
    "    #Process a single status\n",
    "    process_or_store(status._json) "
   ]
  },
  {
   "cell_type": "code",
   "execution_count": 8,
   "metadata": {
    "collapsed": false
   },
   "outputs": [
    {
     "name": "stdout",
     "output_type": "stream",
     "text": [
      "Collecting textblob\n",
      "  Downloading textblob-0.12.0-py2.py3-none-any.whl (631kB)\n",
      "Collecting nltk>=3.1 (from textblob)\n",
      "  Downloading nltk-3.2.2.tar.gz (1.2MB)\n",
      "Requirement already up-to-date: six in c:\\users\\phong\\anaconda2\\lib\\site-packages (from nltk>=3.1->textblob)\n",
      "Building wheels for collected packages: nltk\n",
      "  Running setup.py bdist_wheel for nltk: started\n",
      "  Running setup.py bdist_wheel for nltk: finished with status 'done'\n",
      "  Stored in directory: C:\\Users\\phong\\AppData\\Local\\pip\\Cache\\wheels\\42\\b5\\27\\718985cd9719e8a44a405d264d98214c7a607fb65f3a006f28\n",
      "Successfully built nltk\n",
      "Installing collected packages: nltk, textblob\n",
      "  Found existing installation: nltk 3.2.1\n",
      "    Uninstalling nltk-3.2.1:\n",
      "      Successfully uninstalled nltk-3.2.1\n",
      "Successfully installed nltk-3.2.2 textblob-0.12.0\n"
     ]
    }
   ],
   "source": [
    "!pip install -U textblob\n"
   ]
  },
  {
   "cell_type": "code",
   "execution_count": 9,
   "metadata": {
    "collapsed": false
   },
   "outputs": [
    {
     "name": "stdout",
     "output_type": "stream",
     "text": [
      "[nltk_data] Downloading package brown to\n",
      "[nltk_data]     C:\\Users\\phong\\AppData\\Roaming\\nltk_data...\n",
      "[nltk_data]   Package brown is already up-to-date!\n",
      "[nltk_data] Downloading package punkt to\n",
      "[nltk_data]     C:\\Users\\phong\\AppData\\Roaming\\nltk_data...\n",
      "[nltk_data]   Package punkt is already up-to-date!\n",
      "[nltk_data] Downloading package wordnet to\n",
      "[nltk_data]     C:\\Users\\phong\\AppData\\Roaming\\nltk_data...\n",
      "[nltk_data]   Package wordnet is already up-to-date!\n",
      "[nltk_data] Downloading package averaged_perceptron_tagger to\n",
      "[nltk_data]     C:\\Users\\phong\\AppData\\Roaming\\nltk_data...\n",
      "[nltk_data]   Package averaged_perceptron_tagger is already up-to-\n",
      "[nltk_data]       date!\n",
      "[nltk_data] Downloading package conll2000 to\n",
      "[nltk_data]     C:\\Users\\phong\\AppData\\Roaming\\nltk_data...\n",
      "[nltk_data]   Package conll2000 is already up-to-date!\n",
      "[nltk_data] Downloading package movie_reviews to\n",
      "[nltk_data]     C:\\Users\\phong\\AppData\\Roaming\\nltk_data...\n",
      "[nltk_data]   Package movie_reviews is already up-to-date!\n",
      "Finished.\n"
     ]
    }
   ],
   "source": [
    "!python -m textblob.download_corpora"
   ]
  },
  {
   "cell_type": "code",
   "execution_count": 12,
   "metadata": {
    "collapsed": true
   },
   "outputs": [],
   "source": [
    "description = status.user.description\n",
    "loc = status.user.location\n",
    "text = status.text\n",
    "coords = status.coordinates\n",
    "name = status.user.screen_name\n",
    "user_created = status.user.created_at\n",
    "followers = status.user.followers_count\n",
    "id_str = status.id_str\n",
    "created = status.created_at\n",
    "retweets = status.retweet_count\n",
    "bg_color = status.user.profile_background_color"
   ]
  },
  {
   "cell_type": "code",
   "execution_count": 10,
   "metadata": {
    "collapsed": false
   },
   "outputs": [],
   "source": [
    "from textblob import TextBlob"
   ]
  },
  {
   "cell_type": "code",
   "execution_count": 13,
   "metadata": {
    "collapsed": false
   },
   "outputs": [],
   "source": [
    "blob = TextBlob(text)\n",
    "sent = blob.sentiment\n",
    "polarity = sent.polarity\n",
    "subjectivity = sent.subjectivity"
   ]
  },
  {
   "cell_type": "code",
   "execution_count": 16,
   "metadata": {
    "collapsed": false
   },
   "outputs": [],
   "source": [
    "import dataset\n",
    "db = dataset.connect(\"sqlite:///tweets.db\")"
   ]
  },
  {
   "cell_type": "code",
   "execution_count": 17,
   "metadata": {
    "collapsed": true
   },
   "outputs": [],
   "source": [
    "if coords is not None:\n",
    "    coords = json.dumps(coords)"
   ]
  },
  {
   "cell_type": "code",
   "execution_count": 18,
   "metadata": {
    "collapsed": false
   },
   "outputs": [
    {
     "data": {
      "text/plain": [
       "1"
      ]
     },
     "execution_count": 18,
     "metadata": {},
     "output_type": "execute_result"
    }
   ],
   "source": [
    "table = db[\"tweets\"]\n",
    "table.insert(dict(\n",
    "    user_description=description,\n",
    "    user_location=loc,\n",
    "    coordinates=coords,\n",
    "    text=text,\n",
    "    user_name=name,\n",
    "    user_created=user_created,\n",
    "    user_followers=followers,\n",
    "    id_str=id_str,\n",
    "    created=created,\n",
    "    retweet_count=retweets,\n",
    "    user_bg_color=bg_color,\n",
    "    polarity=sent.polarity,\n",
    "    subjectivity=sent.subjectivity,\n",
    "))"
   ]
  },
  {
   "cell_type": "code",
   "execution_count": null,
   "metadata": {
    "collapsed": false
   },
   "outputs": [],
   "source": [
    "class StreamListener(tweepy.StreamListener):\n",
    "\n",
    "    def on_status(self, status):\n",
    "        if status.favorite_count is None or status.favorite_count < 10:\n",
    "            return \n",
    "        else if status.retweeted_status:\n",
    "            return\n",
    "        print(status.text)\n",
    "        \n",
    "    def on_error(self, status_code):\n",
    "        if status_code == 420:\n",
    "            return False"
   ]
  },
  {
   "cell_type": "code",
   "execution_count": null,
   "metadata": {
    "collapsed": false,
    "scrolled": true
   },
   "outputs": [],
   "source": [
    "stream_listener = StreamListener()\n",
    "stream = tweepy.Stream(auth=api.auth, listener=stream_listener)\n",
    "stream.filter(track=['python'])"
   ]
  },
  {
   "cell_type": "code",
   "execution_count": 19,
   "metadata": {
    "collapsed": false
   },
   "outputs": [
    {
     "ename": "ImportError",
     "evalue": "No module named settings",
     "output_type": "error",
     "traceback": [
      "\u001b[0;31m---------------------------------------------------------------------------\u001b[0m",
      "\u001b[0;31mImportError\u001b[0m                               Traceback (most recent call last)",
      "\u001b[0;32m<ipython-input-19-a81f4ec8b482>\u001b[0m in \u001b[0;36m<module>\u001b[0;34m()\u001b[0m\n\u001b[0;32m----> 1\u001b[0;31m \u001b[1;32mimport\u001b[0m \u001b[0msettings\u001b[0m\u001b[1;33m\u001b[0m\u001b[0m\n\u001b[0m",
      "\u001b[0;31mImportError\u001b[0m: No module named settings"
     ]
    }
   ],
   "source": [
    "import settings"
   ]
  }
 ],
 "metadata": {
  "anaconda-cloud": {},
  "kernelspec": {
   "display_name": "Python [conda root]",
   "language": "python",
   "name": "conda-root-py"
  },
  "language_info": {
   "codemirror_mode": {
    "name": "ipython",
    "version": 2
   },
   "file_extension": ".py",
   "mimetype": "text/x-python",
   "name": "python",
   "nbconvert_exporter": "python",
   "pygments_lexer": "ipython2",
   "version": "2.7.12"
  }
 },
 "nbformat": 4,
 "nbformat_minor": 1
}
